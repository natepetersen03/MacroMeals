{
 "cells": [
  {
   "cell_type": "code",
   "execution_count": 1,
   "metadata": {},
   "outputs": [],
   "source": [
    "import pandas as pd\n",
    "import processDataset\n",
    "import fuzzywuzzy\n",
    "%load_ext autoreload\n",
    "%autoreload 2\n",
    "%reload_ext autoreload"
   ]
  },
  {
   "cell_type": "code",
   "execution_count": 2,
   "metadata": {},
   "outputs": [],
   "source": [
    "# Reading in RecipeNLG\n",
    "recipe_nlg = pd.read_csv(\"full_dataset.csv\")"
   ]
  },
  {
   "cell_type": "code",
   "execution_count": 3,
   "metadata": {},
   "outputs": [],
   "source": [
    "recipe_dict = processDataset.process_df_recipe(recipe_nlg)"
   ]
  },
  {
   "cell_type": "code",
   "execution_count": 4,
   "metadata": {},
   "outputs": [],
   "source": [
    "recipe_dict = processDataset.filter_units_recipe(recipe_dict)"
   ]
  },
  {
   "cell_type": "code",
   "execution_count": 5,
   "metadata": {},
   "outputs": [],
   "source": [
    "recipe_dict = processDataset.standardize_units_recipe(recipe_dict)"
   ]
  },
  {
   "cell_type": "code",
   "execution_count": 11,
   "metadata": {},
   "outputs": [],
   "source": [
    "# final filter\n",
    "acceptable_units = [\"cup\", \"teaspoon\", \"tablespoon\", \"gallon\", \"c.\", \"Tbsp\", \"tbsp\", \"tsp\", \"can\", \"gal.\", \"teaspoon\", \"pt.\", \"pint\", \"stick\", \"quart\", \"qt.\"]\n",
    "unacceptable = set()\n",
    "for recipe in recipe_dict.keys():\n",
    "    accept = False\n",
    "    for ingredient in recipe_dict[recipe][5].split(\" \"):\n",
    "        if ingredient in acceptable_units:\n",
    "            accept = True\n",
    "    if not accept:\n",
    "        unacceptable.add(recipe)\n",
    "for rec in unacceptable:\n",
    "    del(recipe_dict[rec])"
   ]
  },
  {
   "cell_type": "code",
   "execution_count": 12,
   "metadata": {},
   "outputs": [],
   "source": [
    "nutrients = pd.read_csv(\"nutrition.csv\")"
   ]
  },
  {
   "cell_type": "code",
   "execution_count": 13,
   "metadata": {},
   "outputs": [],
   "source": [
    "nutrient_dict = processDataset.process_df_nutrients(nutrients)"
   ]
  },
  {
   "cell_type": "code",
   "execution_count": 14,
   "metadata": {},
   "outputs": [],
   "source": [
    "from fuzzywuzzy import fuzz"
   ]
  },
  {
   "cell_type": "code",
   "execution_count": 15,
   "metadata": {},
   "outputs": [],
   "source": [
    "recipe_to_ingredient = {}\n",
    "for key in recipe_dict.keys():\n",
    "    matches = []\n",
    "    if recipe_dict[key][2] == ['']:\n",
    "        continue\n",
    "    for recipe_ingredient in recipe_dict[key][2]:\n",
    "        max_match = 0\n",
    "        match = [None, None]\n",
    "        for ingredient in nutrient_dict.keys():\n",
    "            curr_match = fuzz.token_set_ratio(recipe_ingredient, ingredient)\n",
    "            if curr_match >= 90 and curr_match > max_match:\n",
    "                max_match = curr_match\n",
    "                match = [recipe_ingredient, ingredient]\n",
    "        if max_match == 0:\n",
    "            break\n",
    "        matches.append(match)\n",
    "    if len(matches) == len(recipe_dict[key][2]):\n",
    "        recipe_to_ingredient[key] = []\n",
    "        for match in matches:\n",
    "            recipe_to_ingredient[key].append(match)"
   ]
  },
  {
   "cell_type": "markdown",
   "metadata": {},
   "source": [
    "that took a while lol"
   ]
  },
  {
   "cell_type": "code",
   "execution_count": 16,
   "metadata": {},
   "outputs": [],
   "source": [
    "import csv"
   ]
  },
  {
   "cell_type": "code",
   "execution_count": 17,
   "metadata": {},
   "outputs": [],
   "source": [
    "with open('pairs.csv', 'w', newline='') as csvfile:\n",
    "    header = ['key'] + [str(i) for i in range(100)]\n",
    "    writer = csv.DictWriter(csvfile, fieldnames=header)\n",
    "    writer.writeheader()\n",
    "    for key in recipe_to_ingredient.keys():\n",
    "        row = {}\n",
    "        row['key'] = key\n",
    "        for a in range(len(recipe_to_ingredient[key])):\n",
    "            row[str(2 * a)] = recipe_to_ingredient[key][a][0]\n",
    "            row[str((2 * a) + 1)] = recipe_to_ingredient[key][a][1]\n",
    "        writer.writerow(row)\n",
    "\n"
   ]
  },
  {
   "cell_type": "code",
   "execution_count": 18,
   "metadata": {},
   "outputs": [
    {
     "name": "stderr",
     "output_type": "stream",
     "text": [
      "/var/folders/0z/cssgr2ps5mx79h2qty5lxfmr0000gn/T/ipykernel_2076/4251665067.py:1: DtypeWarning: Columns (37,38,39,40,41,42,43,44,45,46,47,48) have mixed types. Specify dtype option on import or set low_memory=False.\n",
      "  mappings = pd.read_csv(\"pairs.csv\")\n"
     ]
    }
   ],
   "source": [
    "mappings = pd.read_csv(\"pairs.csv\")"
   ]
  },
  {
   "cell_type": "code",
   "execution_count": 19,
   "metadata": {},
   "outputs": [],
   "source": [
    "recipe_to_ingredient = processDataset.process_pairs(pd, mappings)"
   ]
  },
  {
   "cell_type": "code",
   "execution_count": 25,
   "metadata": {},
   "outputs": [],
   "source": [
    "recipe_info = {}\n",
    "for key in recipe_to_ingredient.keys():\n",
    "    nutritionInfo = [0, 0, 0, 0, 0, 0, 0, 0, 0, 0]\n",
    "    quantity = 0.0\n",
    "    for pair in recipe_to_ingredient[key]:\n",
    "        recipe = pair[0]\n",
    "        ingredient = pair[1]\n",
    "        for a in range(len(recipe_dict[key][2])):\n",
    "            if recipe_dict[key][2][a] == recipe:\n",
    "                quantity += recipe_dict[key][0][a]\n",
    "                ratio = recipe_dict[key][0][a] / nutrient_dict[ingredient][0]\n",
    "                for b in range(1, len(nutritionInfo)):\n",
    "                    nutritionInfo[b - 1] += nutrient_dict[ingredient][b] * ratio\n",
    "                continue\n",
    "    recipe_info[key] = {\n",
    "        'calories': str(round(nutritionInfo[0], 2)),\n",
    "        'fat': str(round(nutritionInfo[1], 2)),\n",
    "        'saturated_fat': str(round(nutritionInfo[2], 2)),\n",
    "        'cholesterol': str(round(nutritionInfo[3], 2)),\n",
    "        'protein': str(round(nutritionInfo[4], 2)),\n",
    "        'carbohydrates': str(round(nutritionInfo[5], 2)),\n",
    "        'fiber': str(round(nutritionInfo[6], 2)) ,\n",
    "        'sugar': str(round(nutritionInfo[7], 2)),\n",
    "        'caffeine': str(round(nutritionInfo[8], 2)),\n",
    "        'ingredients': recipe_dict[key][5],\n",
    "        'quantity': str(round(quantity, 2)),\n",
    "        'directions': recipe_dict[key][3],\n",
    "        'link': recipe_dict[key][4]\n",
    "    }    "
   ]
  },
  {
   "cell_type": "code",
   "execution_count": 26,
   "metadata": {},
   "outputs": [
    {
     "name": "stdout",
     "output_type": "stream",
     "text": [
      "27593\n"
     ]
    }
   ],
   "source": [
    "print(len(recipe_info.keys()))"
   ]
  },
  {
   "cell_type": "code",
   "execution_count": 27,
   "metadata": {},
   "outputs": [],
   "source": [
    "with open('final_dataset.csv', 'w', newline='') as csvfile:\n",
    "    header = ['name', 'ingredients', 'directions', 'calories', 'fat', 'saturated_fat', 'cholesterol', 'protein', 'carbohydrates', 'fiber', 'sugar', 'caffeine', 'quantity', 'link']\n",
    "    writer = csv.DictWriter(csvfile, fieldnames=header)\n",
    "    writer.writeheader()\n",
    "    for key in recipe_info.keys():\n",
    "        row = recipe_info[key]\n",
    "        row['name'] = key\n",
    "        writer.writerow(row)"
   ]
  }
 ],
 "metadata": {
  "kernelspec": {
   "display_name": "macromeals",
   "language": "python",
   "name": "python3"
  },
  "language_info": {
   "codemirror_mode": {
    "name": "ipython",
    "version": 3
   },
   "file_extension": ".py",
   "mimetype": "text/x-python",
   "name": "python",
   "nbconvert_exporter": "python",
   "pygments_lexer": "ipython3",
   "version": "3.12.2"
  }
 },
 "nbformat": 4,
 "nbformat_minor": 2
}
